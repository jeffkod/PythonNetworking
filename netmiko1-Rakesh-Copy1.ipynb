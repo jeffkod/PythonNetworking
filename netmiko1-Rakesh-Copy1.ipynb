{
 "cells": [
  {
   "cell_type": "code",
   "execution_count": 2,
   "metadata": {},
   "outputs": [],
   "source": [
    "from netmiko import ConnectHandler"
   ]
  },
  {
   "cell_type": "code",
   "execution_count": 20,
   "metadata": {},
   "outputs": [],
   "source": [
    "USERNAME,PASSWORD = 'cisco','cisco'"
   ]
  },
  {
   "cell_type": "code",
   "execution_count": 21,
   "metadata": {},
   "outputs": [],
   "source": [
    "ips = ['172.16.1.1']\n",
    "ip = ips[0]"
   ]
  },
  {
   "cell_type": "code",
   "execution_count": 22,
   "metadata": {},
   "outputs": [],
   "source": [
    "rd = {\n",
    "    'username':USERNAME,\n",
    "    'password':PASSWORD,\n",
    "    'device_type':'cisco_ios',\n",
    "    'ip': ip,\n",
    "    'secret':PASSWORD\n",
    "}"
   ]
  },
  {
   "cell_type": "code",
   "execution_count": 23,
   "metadata": {},
   "outputs": [],
   "source": [
    "rc = ConnectHandler(**rd)"
   ]
  },
  {
   "cell_type": "code",
   "execution_count": 24,
   "metadata": {},
   "outputs": [
    {
     "data": {
      "text/plain": [
       "'enable\\r\\nPassword: \\r\\nIOU1#'"
      ]
     },
     "execution_count": 24,
     "metadata": {},
     "output_type": "execute_result"
    }
   ],
   "source": [
    "rc.enable()"
   ]
  },
  {
   "cell_type": "code",
   "execution_count": 7,
   "metadata": {},
   "outputs": [
    {
     "data": {
      "text/plain": [
       "['Interface                  IP-Address      OK? Method Status                Protocol',\n",
       " 'Ethernet0/0                unassigned      YES NVRAM  administratively down down    ',\n",
       " 'Ethernet0/1                unassigned      YES NVRAM  administratively down down    ',\n",
       " 'Ethernet0/2                unassigned      YES NVRAM  administratively down down    ',\n",
       " 'Ethernet0/3                unassigned      YES NVRAM  administratively down down    ',\n",
       " 'Ethernet1/0                unassigned      YES NVRAM  administratively down down    ',\n",
       " 'Ethernet1/1                unassigned      YES NVRAM  administratively down down    ',\n",
       " 'Ethernet1/2                unassigned      YES NVRAM  administratively down down    ',\n",
       " 'Ethernet1/3                172.16.128.2    YES NVRAM  up                    up      ',\n",
       " 'Serial2/0                  unassigned      YES NVRAM  administratively down down    ',\n",
       " 'Serial2/1                  unassigned      YES NVRAM  administratively down down    ',\n",
       " 'Serial2/2                  unassigned      YES NVRAM  administratively down down    ',\n",
       " 'Serial2/3                  unassigned      YES NVRAM  administratively down down    ',\n",
       " 'Serial3/0                  unassigned      YES NVRAM  administratively down down    ',\n",
       " 'Serial3/1                  unassigned      YES NVRAM  administratively down down    ',\n",
       " 'Serial3/2                  unassigned      YES NVRAM  administratively down down    ',\n",
       " 'Serial3/3                  unassigned      YES NVRAM  administratively down down    ',\n",
       " 'Loopback0                  172.16.1.1      YES manual up                    up      ']"
      ]
     },
     "execution_count": 7,
     "metadata": {},
     "output_type": "execute_result"
    }
   ],
   "source": [
    "rc.send_command(\"sh ip int br\").splitlines()"
   ]
  },
  {
   "cell_type": "code",
   "execution_count": 8,
   "metadata": {},
   "outputs": [],
   "source": [
    "rc = ConnectHandler(**rd)"
   ]
  },
  {
   "cell_type": "code",
   "execution_count": 4,
   "metadata": {},
   "outputs": [
    {
     "ename": "NameError",
     "evalue": "name 'rc' is not defined",
     "output_type": "error",
     "traceback": [
      "\u001b[0;31m---------------------------------------------------------------------------\u001b[0m",
      "\u001b[0;31mNameError\u001b[0m                                 Traceback (most recent call last)",
      "\u001b[0;32m<ipython-input-4-53a4dfbed0a0>\u001b[0m in \u001b[0;36m<module>\u001b[0;34m()\u001b[0m\n\u001b[0;32m----> 1\u001b[0;31m \u001b[0moutput\u001b[0m\u001b[0;34m=\u001b[0m\u001b[0mrc\u001b[0m\u001b[0;34m.\u001b[0m\u001b[0msend_command\u001b[0m\u001b[0;34m(\u001b[0m\u001b[0;34m\"sh ip ospf nei\"\u001b[0m\u001b[0;34m)\u001b[0m\u001b[0;34m.\u001b[0m\u001b[0msplitlines\u001b[0m\u001b[0;34m(\u001b[0m\u001b[0;34m)\u001b[0m\u001b[0;34m\u001b[0m\u001b[0m\n\u001b[0m",
      "\u001b[0;31mNameError\u001b[0m: name 'rc' is not defined"
     ]
    }
   ],
   "source": [
    "output=rc.send_command(\"sh ip ospf nei\").splitlines()"
   ]
  },
  {
   "cell_type": "code",
   "execution_count": 10,
   "metadata": {},
   "outputs": [
    {
     "data": {
      "text/plain": [
       "'enable\\r\\nPassword: \\r\\nIOU1#'"
      ]
     },
     "execution_count": 10,
     "metadata": {},
     "output_type": "execute_result"
    }
   ],
   "source": [
    "rc.enable()"
   ]
  },
  {
   "cell_type": "code",
   "execution_count": 11,
   "metadata": {},
   "outputs": [
    {
     "data": {
      "text/plain": [
       "['',\n",
       " 'Neighbor ID     Pri   State           Dead Time   Address         Interface',\n",
       " '192.168.122.1     1   FULL/BDR        00:00:36    172.16.128.1    Ethernet1/3']"
      ]
     },
     "execution_count": 11,
     "metadata": {},
     "output_type": "execute_result"
    }
   ],
   "source": [
    "output"
   ]
  },
  {
   "cell_type": "code",
   "execution_count": 16,
   "metadata": {},
   "outputs": [],
   "source": [
    "\n",
    "with open(\"test_rakesh11.txt\",'w') as outfile:\n",
    "    commands=['show ip int brief','show version','show process cpu']\n",
    "    for command in commands:\n",
    "        outfile.write((rc.send_command(command)))\n",
    "        padding = '\\n\\n'+('-'*100)+'\\n\\n'\n",
    "        outfile.write(padding)"
   ]
  },
  {
   "cell_type": "code",
   "execution_count": 13,
   "metadata": {},
   "outputs": [
    {
     "ename": "NameError",
     "evalue": "name 'outputs' is not defined",
     "output_type": "error",
     "traceback": [
      "\u001b[0;31m---------------------------------------------------------------------------\u001b[0m",
      "\u001b[0;31mNameError\u001b[0m                                 Traceback (most recent call last)",
      "\u001b[0;32m<ipython-input-13-0dde94a30ad7>\u001b[0m in \u001b[0;36m<module>\u001b[0;34m()\u001b[0m\n\u001b[0;32m----> 1\u001b[0;31m \u001b[0moutputs\u001b[0m\u001b[0;34m\u001b[0m\u001b[0m\n\u001b[0m",
      "\u001b[0;31mNameError\u001b[0m: name 'outputs' is not defined"
     ]
    }
   ],
   "source": []
  },
  {
   "cell_type": "code",
   "execution_count": 3,
   "metadata": {},
   "outputs": [
    {
     "ename": "TypeError",
     "evalue": "write() takes exactly one argument (0 given)",
     "output_type": "error",
     "traceback": [
      "\u001b[0;31m---------------------------------------------------------------------------\u001b[0m",
      "\u001b[0;31mTypeError\u001b[0m                                 Traceback (most recent call last)",
      "\u001b[0;32m<ipython-input-3-167cb7b4a16e>\u001b[0m in \u001b[0;36m<module>\u001b[0;34m()\u001b[0m\n\u001b[1;32m      1\u001b[0m \u001b[0;32mwith\u001b[0m \u001b[0mopen\u001b[0m\u001b[0;34m(\u001b[0m\u001b[0;34m\"test.txt\"\u001b[0m\u001b[0;34m,\u001b[0m\u001b[0;34m'w'\u001b[0m\u001b[0;34m)\u001b[0m \u001b[0;32mas\u001b[0m \u001b[0moutfile\u001b[0m\u001b[0;34m:\u001b[0m\u001b[0;34m\u001b[0m\u001b[0m\n\u001b[0;32m----> 2\u001b[0;31m      \u001b[0moutfile\u001b[0m\u001b[0;34m.\u001b[0m\u001b[0mwrite\u001b[0m\u001b[0;34m(\u001b[0m\u001b[0;34m)\u001b[0m\u001b[0;34m\u001b[0m\u001b[0m\n\u001b[0m",
      "\u001b[0;31mTypeError\u001b[0m: write() takes exactly one argument (0 given)"
     ]
    }
   ],
   "source": [
    "with open(\"test.txt\",'w') as outfile:\n",
    "     outfile.write()"
   ]
  },
  {
   "cell_type": "code",
   "execution_count": 25,
   "metadata": {},
   "outputs": [],
   "source": [
    "commans_dict={\"active_interface\": \"show ip int brief | ex admin\",\"routing_table\":\"sh ip route\"}\n",
    "outputs=dict()\n",
    "with open(\"test_rak12.txt\",'w') as outfile:\n",
    "    for cmd_title,cmd in commans_dict.items():\n",
    "        padding ='\\n\\n'+('-'*25)+commans_dict[cmd_title]+('-'*25)+'\\n\\n'\n",
    "        outfile.write(padding)\n",
    "        outfile.write(rc.send_command(cmd))\n",
    "\n",
    "    "
   ]
  },
  {
   "cell_type": "code",
   "execution_count": 3,
   "metadata": {},
   "outputs": [
    {
     "name": "stdout",
     "output_type": "stream",
     "text": [
      "Help on function ConnectHandler in module netmiko.ssh_dispatcher:\n",
      "\n",
      "ConnectHandler(*args, **kwargs)\n",
      "    Factory function selects the proper class and creates object based on device_type.\n",
      "\n"
     ]
    }
   ],
   "source": [
    "help(ConnectHandler)"
   ]
  }
 ],
 "metadata": {
  "kernelspec": {
   "display_name": "Python 3",
   "language": "python",
   "name": "python3"
  },
  "language_info": {
   "codemirror_mode": {
    "name": "ipython",
    "version": 3
   },
   "file_extension": ".py",
   "mimetype": "text/x-python",
   "name": "python",
   "nbconvert_exporter": "python",
   "pygments_lexer": "ipython3",
   "version": "3.5.2"
  }
 },
 "nbformat": 4,
 "nbformat_minor": 2
}
