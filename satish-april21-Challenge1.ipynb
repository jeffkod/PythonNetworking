{
 "cells": [
  {
   "cell_type": "markdown",
   "metadata": {},
   "source": [
    "Challenge #1 : Find the interface descriptions of the new router. You can find hints to the login details in the interface description of the existing router. The IP address can be found using the regular discovery method for cisco devices.\n",
    "Topology: rtr1: 172.16.1.1 rtr2: Find out"
   ]
  },
  {
   "cell_type": "markdown",
   "metadata": {},
   "source": [
    "from netmiko import ConnectHandler"
   ]
  },
  {
   "cell_type": "markdown",
   "metadata": {},
   "source": [
    "ips = ['172.16.1.1']\n",
    "ip = ips[0]\n",
    "USERNAME,PASSWORD = 'cisco','cisco'"
   ]
  },
  {
   "cell_type": "markdown",
   "metadata": {},
   "source": [
    "rd = {\n",
    "    'username':USERNAME,\n",
    "    'password':PASSWORD,\n",
    "    'device_type':'cisco_ios',\n",
    "    'ip': ip,\n",
    "    'secret':PASSWORD\n",
    "}"
   ]
  },
  {
   "cell_type": "markdown",
   "metadata": {},
   "source": [
    "rc = ConnectHandler(**rd)\n",
    "rc.enable()"
   ]
  },
  {
   "cell_type": "markdown",
   "metadata": {},
   "source": [
    "rc.send_command(\"sh int des | in up\").splitlines()"
   ]
  },
  {
   "cell_type": "markdown",
   "metadata": {},
   "source": [
    "rc.send_command(\"sh ip int bri | in up\").splitlines()"
   ]
  },
  {
   "cell_type": "markdown",
   "metadata": {},
   "source": [
    "rc.send_command(\"sh ip arp | in 172.16.128\").splitlines()"
   ]
  },
  {
   "cell_type": "code",
   "execution_count": 19,
   "metadata": {},
   "outputs": [],
   "source": [
    "from netmiko import ConnectHandler\n",
    "USERNAME,PASSWORD = 'cisco','cisco'\n",
    "import time\n",
    "from netmiko.ssh_exception import AuthenticationException,NetMikoTimeoutException"
   ]
  },
  {
   "cell_type": "code",
   "execution_count": 20,
   "metadata": {},
   "outputs": [],
   "source": [
    "class Router:\n",
    "    def __init__(self,ip,username='cisco',password='cisco',secret='cisco'):\n",
    "        self.ip = ip\n",
    "        self.netmiko_init_dict = {\n",
    "            'device_type':'cisco_ios',\n",
    "            'username':username,\n",
    "            'password':password,\n",
    "            'secret':secret,\n",
    "            'ip':self.ip\n",
    "        }\n",
    "        self.conn = None\n",
    "    def connect_to_device(self):\n",
    "        self.conn = ConnectHandler(**self.netmiko_init_dict)\n",
    "        self.conn.enable()\n",
    "    \n",
    "    def get_first_cdp_nei_ip(self):\n",
    "        if not self.conn:\n",
    "            print(\"Not connected. Connecting now!\")\n",
    "            self.connect_to_device()\n",
    "        cdp_nei_cmd = 'sh cdp nei det'\n",
    "        cdp_nei_det_op=self.conn.send_command(cdp_nei_cmd).splitlines()\n",
    "        return cdp_nei_det_op[3].split(\":\")[1].strip()\n",
    "    def show_int_desc(self):\n",
    "        \"\"\"\n",
    "        Returns the interface descriptions splited by lines as a list\n",
    "        \"\"\"\n",
    "        if not self.conn:\n",
    "            print(\"Not connected. Connecting now!\")\n",
    "            self.connect_to_device()\n",
    "        int_desc_commmand = 'sh int desc'\n",
    "        return self.conn.send_command(int_desc_commmand).splitlines()\n",
    "        \n",
    "    "
   ]
  },
  {
   "cell_type": "code",
   "execution_count": 21,
   "metadata": {},
   "outputs": [],
   "source": [
    "rtr1 = Router('172.16.1.1')"
   ]
  },
  {
   "cell_type": "code",
   "execution_count": 22,
   "metadata": {},
   "outputs": [
    {
     "name": "stdout",
     "output_type": "stream",
     "text": [
      "Not connected. Connecting now!\n"
     ]
    }
   ],
   "source": [
    "nei_ip = rtr1.get_first_cdp_nei_ip()"
   ]
  },
  {
   "cell_type": "code",
   "execution_count": 23,
   "metadata": {},
   "outputs": [
    {
     "data": {
      "text/plain": [
       "'172.16.128.3'"
      ]
     },
     "execution_count": 23,
     "metadata": {},
     "output_type": "execute_result"
    }
   ],
   "source": [
    "nei_ip"
   ]
  },
  {
   "cell_type": "code",
   "execution_count": 24,
   "metadata": {},
   "outputs": [
    {
     "data": {
      "text/plain": [
       "['Interface                      Status         Protocol Description',\n",
       " 'Et0/0                          admin down     down     ',\n",
       " 'Et0/1                          admin down     down     ',\n",
       " 'Et0/2                          admin down     down     ',\n",
       " 'Et0/3                          admin down     down     ',\n",
       " 'Et1/0                          admin down     down     ',\n",
       " 'Et1/1                          admin down     down     ',\n",
       " 'Et1/2                          admin down     down     ',\n",
       " 'Et1/3                          up             up       \"enable password is the domain root of the jupyter server without the suffix.\"',\n",
       " 'Se2/0                          admin down     down     ',\n",
       " 'Se2/1                          admin down     down     ',\n",
       " 'Se2/2                          admin down     down     ',\n",
       " 'Se2/3                          admin down     down     ',\n",
       " 'Se3/0                          admin down     down     ',\n",
       " 'Se3/1                          admin down     down     ',\n",
       " 'Se3/2                          admin down     down     ',\n",
       " 'Se3/3                          admin down     down     ',\n",
       " 'Lo0                            up             up       \"login username : ordered immutable sequence of objects in python. password: collection of unique objects\"']"
      ]
     },
     "execution_count": 24,
     "metadata": {},
     "output_type": "execute_result"
    }
   ],
   "source": [
    "rtr1.conn.send_command(\"sh int desc\").splitlines()"
   ]
  },
  {
   "cell_type": "code",
   "execution_count": 25,
   "metadata": {},
   "outputs": [],
   "source": [
    "rtr2=Router(ip=nei_ip,username='tuple',password='set',secret='jusfocus')"
   ]
  },
  {
   "cell_type": "code",
   "execution_count": 26,
   "metadata": {},
   "outputs": [
    {
     "name": "stdout",
     "output_type": "stream",
     "text": [
      "Not connected. Connecting now!\n"
     ]
    },
    {
     "data": {
      "text/plain": [
       "['Interface                      Status         Protocol Description',\n",
       " 'Et0/0                          up             up       \" Right focus can change your life\"',\n",
       " 'Et0/1                          admin down     down     ',\n",
       " 'Et0/2                          admin down     down     ',\n",
       " 'Et0/3                          admin down     down     ',\n",
       " 'Et1/0                          admin down     down     ',\n",
       " 'Et1/1                          admin down     down     ',\n",
       " 'Et1/2                          admin down     down     ',\n",
       " 'Et1/3                          admin down     down     ',\n",
       " 'Se2/0                          admin down     down     ',\n",
       " 'Se2/1                          admin down     down     ',\n",
       " 'Se2/2                          admin down     down     ',\n",
       " 'Se2/3                          admin down     down     ',\n",
       " 'Se3/0                          admin down     down     ',\n",
       " 'Se3/1                          admin down     down     ',\n",
       " 'Se3/2                          admin down     down     ',\n",
       " 'Se3/3                          admin down     down     ',\n",
       " 'Lo0                            up             up       \"tune in for www.jusfocus.com \"',\n",
       " 'Lo1                            up             up       \"you can put any desc\"']"
      ]
     },
     "execution_count": 26,
     "metadata": {},
     "output_type": "execute_result"
    }
   ],
   "source": [
    "rtr2.show_int_desc()"
   ]
  },
  {
   "cell_type": "code",
   "execution_count": 27,
   "metadata": {},
   "outputs": [
    {
     "data": {
      "text/plain": [
       "['Interface                      Status         Protocol Description',\n",
       " 'Et0/0                          up             up       \" Right focus can change your life\"',\n",
       " 'Et0/1                          admin down     down     ',\n",
       " 'Et0/2                          admin down     down     ',\n",
       " 'Et0/3                          admin down     down     ',\n",
       " 'Et1/0                          admin down     down     ',\n",
       " 'Et1/1                          admin down     down     ',\n",
       " 'Et1/2                          admin down     down     ',\n",
       " 'Et1/3                          admin down     down     ',\n",
       " 'Se2/0                          admin down     down     ',\n",
       " 'Se2/1                          admin down     down     ',\n",
       " 'Se2/2                          admin down     down     ',\n",
       " 'Se2/3                          admin down     down     ',\n",
       " 'Se3/0                          admin down     down     ',\n",
       " 'Se3/1                          admin down     down     ',\n",
       " 'Se3/2                          admin down     down     ',\n",
       " 'Se3/3                          admin down     down     ',\n",
       " 'Lo0                            up             up       \"tune in for www.jusfocus.com \"',\n",
       " 'Lo1                            up             up       \"you can put any desc\"']"
      ]
     },
     "execution_count": 27,
     "metadata": {},
     "output_type": "execute_result"
    }
   ],
   "source": [
    "rtr2.conn.send_command(\"sh int desc\").splitlines()"
   ]
  },
  {
   "cell_type": "code",
   "execution_count": 28,
   "metadata": {},
   "outputs": [
    {
     "data": {
      "text/plain": [
       "'172.16.128.2'"
      ]
     },
     "execution_count": 28,
     "metadata": {},
     "output_type": "execute_result"
    }
   ],
   "source": [
    "rtr2.get_first_cdp_nei_ip()"
   ]
  },
  {
   "cell_type": "code",
   "execution_count": 29,
   "metadata": {},
   "outputs": [],
   "source": [
    "ip3 = '172.16.1.8'"
   ]
  },
  {
   "cell_type": "code",
   "execution_count": 30,
   "metadata": {},
   "outputs": [],
   "source": [
    "rtr3 = Router(ip3)"
   ]
  },
  {
   "cell_type": "code",
   "execution_count": null,
   "metadata": {},
   "outputs": [],
   "source": [
    "rtr3.connect_to_device()"
   ]
  },
  {
   "cell_type": "code",
   "execution_count": null,
   "metadata": {},
   "outputs": [],
   "source": [
    "rtr2 = Router(nei_ip)"
   ]
  },
  {
   "cell_type": "code",
   "execution_count": null,
   "metadata": {},
   "outputs": [],
   "source": [
    "rtr2.connect_to_device()"
   ]
  },
  {
   "cell_type": "code",
   "execution_count": null,
   "metadata": {},
   "outputs": [],
   "source": [
    "try:\n",
    "    rtr2.connect_to_device()\n",
    "except AuthenticationException:\n",
    "    print(\"Authentication Error\")\n",
    "except NetMikoTimeoutException:\n",
    "    print(\"Device not reachable\")"
   ]
  },
  {
   "cell_type": "code",
   "execution_count": null,
   "metadata": {},
   "outputs": [],
   "source": [
    "rtr1.connect_to_device()"
   ]
  },
  {
   "cell_type": "code",
   "execution_count": null,
   "metadata": {},
   "outputs": [],
   "source": [
    "cdp_nei_det_op=rtr1.conn.send_command(cdp_nei_cmd).splitlines()"
   ]
  },
  {
   "cell_type": "code",
   "execution_count": null,
   "metadata": {},
   "outputs": [],
   "source": [
    "cdp_nei_det_op[3].split(\":\")[1].strip()"
   ]
  },
  {
   "cell_type": "code",
   "execution_count": null,
   "metadata": {},
   "outputs": [],
   "source": [
    "def parse_cdp_nei_det(cdp_det_op):\n",
    "    return cdp_nei_det_op[3].split(\":\")[1].strip()"
   ]
  },
  {
   "cell_type": "code",
   "execution_count": null,
   "metadata": {},
   "outputs": [],
   "source": [
    "nei_ip = parse_cdp_nei_det(cdp_nei_det_op)"
   ]
  },
  {
   "cell_type": "code",
   "execution_count": null,
   "metadata": {},
   "outputs": [],
   "source": [
    "rtr1.netmiko_init_dict"
   ]
  },
  {
   "cell_type": "code",
   "execution_count": null,
   "metadata": {},
   "outputs": [],
   "source": [
    "rtr1.netmiko_init_dict"
   ]
  },
  {
   "cell_type": "code",
   "execution_count": null,
   "metadata": {},
   "outputs": [],
   "source": [
    "rtr1.get_ip()"
   ]
  },
  {
   "cell_type": "code",
   "execution_count": null,
   "metadata": {},
   "outputs": [],
   "source": [
    "rtr1.ip"
   ]
  },
  {
   "cell_type": "code",
   "execution_count": null,
   "metadata": {},
   "outputs": [],
   "source": []
  },
  {
   "cell_type": "code",
   "execution_count": null,
   "metadata": {},
   "outputs": [],
   "source": []
  },
  {
   "cell_type": "code",
   "execution_count": null,
   "metadata": {},
   "outputs": [],
   "source": []
  }
 ],
 "metadata": {
  "kernelspec": {
   "display_name": "Python 3",
   "language": "python",
   "name": "python3"
  },
  "language_info": {
   "codemirror_mode": {
    "name": "ipython",
    "version": 3
   },
   "file_extension": ".py",
   "mimetype": "text/x-python",
   "name": "python",
   "nbconvert_exporter": "python",
   "pygments_lexer": "ipython3",
   "version": "3.5.2"
  }
 },
 "nbformat": 4,
 "nbformat_minor": 2
}
