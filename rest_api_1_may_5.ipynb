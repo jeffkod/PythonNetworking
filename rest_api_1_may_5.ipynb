{
 "cells": [
  {
   "cell_type": "markdown",
   "metadata": {},
   "source": [
    "# REST API Basics"
   ]
  },
  {
   "cell_type": "markdown",
   "metadata": {},
   "source": [
    "https://sandboxapicem.cisco.com\n",
    "username: devnetuser\n",
    "password: Cisco123!\n"
   ]
  },
  {
   "cell_type": "code",
   "execution_count": 14,
   "metadata": {},
   "outputs": [],
   "source": [
    "import requests\n",
    "import json"
   ]
  },
  {
   "cell_type": "code",
   "execution_count": 2,
   "metadata": {},
   "outputs": [],
   "source": [
    "apic_controller_hostname = 'sandboxapicem.cisco.com'\n",
    "base_url = 'https://{0}/api/v1'.format(apic_controller_hostname)\n",
    "username = 'devnetuser'\n",
    "password = 'Cisco123!'"
   ]
  },
  {
   "cell_type": "code",
   "execution_count": 54,
   "metadata": {},
   "outputs": [],
   "source": [
    "new_ticket_url = base_url + '/ticket'\n",
    "hosts_lists_url = base_url + '/host'\n",
    "hosts_count_url = hosts_lists_url + '/count'"
   ]
  },
  {
   "cell_type": "code",
   "execution_count": 29,
   "metadata": {},
   "outputs": [],
   "source": [
    "credentials = {\n",
    "    \"username\":username,\n",
    "    \"password\":password\n",
    "}\n",
    "headers = {\n",
    "    'X-Auth-Token':''\n",
    "}"
   ]
  },
  {
   "cell_type": "code",
   "execution_count": 36,
   "metadata": {},
   "outputs": [],
   "source": [
    "resp = requests.post(new_ticket_url,json=credentials)\n",
    "resp_dict = resp.json()\n",
    "headers['X-Auth-Token']=resp_dict['response']['serviceTicket']"
   ]
  },
  {
   "cell_type": "code",
   "execution_count": 37,
   "metadata": {},
   "outputs": [],
   "source": [
    "hosts_resp = requests.get(hosts_lists_url,headers=headers)"
   ]
  },
  {
   "cell_type": "code",
   "execution_count": 45,
   "metadata": {},
   "outputs": [
    {
     "data": {
      "text/plain": [
       "[{'connectedAPMacAddress': '68:bc:0c:63:4a:b0',\n",
       "  'connectedAPName': 'AP7081.059f.19ca',\n",
       "  'connectedNetworkDeviceId': 'cd6d9b24-839b-4d58-adfe-3fdf781e1782',\n",
       "  'connectedNetworkDeviceIpAddress': '10.1.14.3',\n",
       "  'hostIp': '10.1.15.117',\n",
       "  'hostMac': '00:24:d7:43:59:d8',\n",
       "  'hostType': 'wireless',\n",
       "  'id': '48cdeb9b-b412-491e-a80c-7ec5bbe98167',\n",
       "  'lastUpdated': '1479514114932',\n",
       "  'pointOfAttachment': 'ae19cd21-1b26-4f58-8ccd-d265deabb6c3',\n",
       "  'pointOfPresence': 'ae19cd21-1b26-4f58-8ccd-d265deabb6c3',\n",
       "  'source': '200',\n",
       "  'subType': 'UNKNOWN',\n",
       "  'vlanId': '600'},\n",
       " {'connectedInterfaceId': '7075521d-4d7b-4218-92f9-79b60e054635',\n",
       "  'connectedInterfaceName': 'GigabitEthernet1/0/47',\n",
       "  'connectedNetworkDeviceId': '26450a30-57d8-4b56-b8f1-6fc535d67645',\n",
       "  'connectedNetworkDeviceIpAddress': '10.2.1.17',\n",
       "  'hostIp': '10.2.1.22',\n",
       "  'hostMac': '5c:f9:dd:52:07:78',\n",
       "  'hostType': 'wired',\n",
       "  'id': 'f624d4f3-0ab9-4ae3-b09d-62051edbd8f3',\n",
       "  'lastUpdated': '1479514299803',\n",
       "  'source': '200',\n",
       "  'subType': 'UNKNOWN',\n",
       "  'vlanId': '200'},\n",
       " {'connectedInterfaceId': '6e4e5ae6-6045-4060-9038-1a64d5a101cc',\n",
       "  'connectedInterfaceName': 'GigabitEthernet1/0/47',\n",
       "  'connectedNetworkDeviceId': '5b5ea8da-8c23-486a-b95e-7429684d25fc',\n",
       "  'connectedNetworkDeviceIpAddress': '10.1.12.1',\n",
       "  'hostIp': '10.1.12.20',\n",
       "  'hostMac': 'e8:9a:8f:7a:22:99',\n",
       "  'hostType': 'wired',\n",
       "  'id': '572d4065-abd8-4b97-bfc3-ab5ee13f6c08',\n",
       "  'lastUpdated': '1479513914455',\n",
       "  'source': '200',\n",
       "  'subType': 'UNKNOWN',\n",
       "  'vlanId': '200'}]"
      ]
     },
     "execution_count": 45,
     "metadata": {},
     "output_type": "execute_result"
    }
   ],
   "source": [
    "hosts = hosts_resp.json().get('response')\n",
    "type(hosts_dict) #list\n",
    "hosts"
   ]
  },
  {
   "cell_type": "code",
   "execution_count": 53,
   "metadata": {},
   "outputs": [
    {
     "name": "stdout",
     "output_type": "stream",
     "text": [
      "10.2.1.22\n",
      "10.1.12.20\n"
     ]
    }
   ],
   "source": [
    "for host in hosts:\n",
    "    if host.get('hostType') != 'wired':\n",
    "        continue\n",
    "    print(host['hostIp'])\n",
    "        \n",
    "    "
   ]
  },
  {
   "cell_type": "code",
   "execution_count": 55,
   "metadata": {},
   "outputs": [
    {
     "data": {
      "text/plain": [
       "{'response': 3, 'version': '1.0'}"
      ]
     },
     "execution_count": 55,
     "metadata": {},
     "output_type": "execute_result"
    }
   ],
   "source": [
    "requests.get(hosts_count_url,headers=headers).json()"
   ]
  },
  {
   "cell_type": "code",
   "execution_count": 56,
   "metadata": {},
   "outputs": [
    {
     "data": {
      "text/plain": [
       "{'response': {'connectedAPMacAddress': '68:bc:0c:63:4a:b0',\n",
       "  'connectedAPName': 'AP7081.059f.19ca',\n",
       "  'connectedNetworkDeviceId': 'cd6d9b24-839b-4d58-adfe-3fdf781e1782',\n",
       "  'connectedNetworkDeviceIpAddress': '10.1.14.3',\n",
       "  'hostIp': '10.1.15.117',\n",
       "  'hostMac': '00:24:d7:43:59:d8',\n",
       "  'hostType': 'wireless',\n",
       "  'id': '48cdeb9b-b412-491e-a80c-7ec5bbe98167',\n",
       "  'lastUpdated': '1479514114932',\n",
       "  'pointOfAttachment': 'ae19cd21-1b26-4f58-8ccd-d265deabb6c3',\n",
       "  'pointOfPresence': 'ae19cd21-1b26-4f58-8ccd-d265deabb6c3',\n",
       "  'source': '200',\n",
       "  'subType': 'UNKNOWN',\n",
       "  'vlanId': '600'},\n",
       " 'version': '1.0'}"
      ]
     },
     "execution_count": 56,
     "metadata": {},
     "output_type": "execute_result"
    }
   ],
   "source": [
    "requests.get(hosts_lists_url+'/48cdeb9b-b412-491e-a80c-7ec5bbe98167',headers=headers).json()"
   ]
  },
  {
   "cell_type": "code",
   "execution_count": 57,
   "metadata": {},
   "outputs": [],
   "source": [
    "params = {\n",
    "    'hostType':'wireless',\n",
    "}"
   ]
  },
  {
   "cell_type": "code",
   "execution_count": 59,
   "metadata": {},
   "outputs": [
    {
     "data": {
      "text/plain": [
       "{'response': [{'connectedAPMacAddress': '68:bc:0c:63:4a:b0',\n",
       "   'connectedAPName': 'AP7081.059f.19ca',\n",
       "   'connectedNetworkDeviceId': 'cd6d9b24-839b-4d58-adfe-3fdf781e1782',\n",
       "   'connectedNetworkDeviceIpAddress': '10.1.14.3',\n",
       "   'hostIp': '10.1.15.117',\n",
       "   'hostMac': '00:24:d7:43:59:d8',\n",
       "   'hostType': 'wireless',\n",
       "   'id': '48cdeb9b-b412-491e-a80c-7ec5bbe98167',\n",
       "   'lastUpdated': '1479514114932',\n",
       "   'pointOfAttachment': 'ae19cd21-1b26-4f58-8ccd-d265deabb6c3',\n",
       "   'pointOfPresence': 'ae19cd21-1b26-4f58-8ccd-d265deabb6c3',\n",
       "   'source': '200',\n",
       "   'subType': 'UNKNOWN',\n",
       "   'vlanId': '600'}],\n",
       " 'version': '1.0'}"
      ]
     },
     "execution_count": 59,
     "metadata": {},
     "output_type": "execute_result"
    }
   ],
   "source": [
    "requests.get(hosts_lists_url,headers=headers,params=params).json()"
   ]
  },
  {
   "cell_type": "code",
   "execution_count": 31,
   "metadata": {},
   "outputs": [
    {
     "data": {
      "text/plain": [
       "{'X-Auth-Token': 'ST-4007-XlEiYFZeshdjgX4JWKS1-cas'}"
      ]
     },
     "execution_count": 31,
     "metadata": {},
     "output_type": "execute_result"
    }
   ],
   "source": [
    "headers"
   ]
  },
  {
   "cell_type": "code",
   "execution_count": 60,
   "metadata": {},
   "outputs": [
    {
     "data": {
      "text/plain": [
       "{'response': {'idleTimeout': 1800,\n",
       "  'serviceTicket': 'ST-4018-bF5HWdJtbp4m7g9CIJJF-cas',\n",
       "  'sessionTimeout': 21600},\n",
       " 'version': '1.0'}"
      ]
     },
     "execution_count": 60,
     "metadata": {},
     "output_type": "execute_result"
    }
   ],
   "source": [
    "resp_dict"
   ]
  },
  {
   "cell_type": "code",
   "execution_count": 72,
   "metadata": {},
   "outputs": [],
   "source": [
    "new_app_details = [\n",
    "  {\n",
    "    \"status\": \"\",\n",
    "    \"rank\": 0,\n",
    "    \"instanceUuid\": \"\",\n",
    "    \"ipPorts\": \"\",\n",
    "    \"trafficClass\": \"Gold\",\n",
    "    \"category\": \"\",\n",
    "    \"url\": \"\",\n",
    "    \"longDescription\": \"\",\n",
    "    \"references\": \"\",\n",
    "    \"subCategory\": \"\",\n",
    "    \"tcpPorts\": \"\",\n",
    "    \"transportIps\": \"\",\n",
    "    \"tunnel\": \"\",\n",
    "    \"udpPorts\": \"\",\n",
    "    \"encrypted\": \"\",\n",
    "    \"globalId\": \"\",\n",
    "    \"helpString\": \"\",\n",
    "    \"ignoreConflict\": False,\n",
    "    \"indicativeIpPorts\": \"\",\n",
    "    \"indicativeTcpPorts\": \"\",\n",
    "    \"indicativeUdpPorts\": \"\",\n",
    "    \"isRepresentativeApp\": False,\n",
    "    \"nbarId\": \"\",\n",
    "    \"p2pTechnology\": \"\",\n",
    "    \"pfrThresholdJitter\": 0,\n",
    "    \"pfrThresholdJitterPriority\": 0,\n",
    "    \"pfrThresholdLossRate\": 0,\n",
    "    \"pfrThresholdLossRatePriority\": 0,\n",
    "    \"pfrThresholdOneWayDelay\": 0,\n",
    "    \"pfrThresholdOneWayDelayPriority\": 0,\n",
    "    \"popularity\": 0,\n",
    "    \"selectorId\": \"\",\n",
    "    \"enabled\": \"\",\n",
    "    \"appProtocol\": \"\",\n",
    "    \"applicationGroup\": \"\",\n",
    "    \"engineId\": \"\",\n",
    "    \"categoryId\": \"\",\n",
    "    \"dscp\": \"\",\n",
    "    \"applicationIpPortClassifiers\": [\n",
    "      {\n",
    "        \"ipAddress\": \"\",\n",
    "        \"ipPorts\": [\n",
    "          \"int\"\n",
    "        ],\n",
    "        \"lowerPort\": 0,\n",
    "        \"subnetMask\": 0,\n",
    "        \"upperPort\": 0,\n",
    "        \"ports\": [\n",
    "          \"int\"\n",
    "        ],\n",
    "        \"protocol\": \"\"\n",
    "      }\n",
    "    ],\n",
    "    \"name\": \"wlcautomator\",\n",
    "    \"id\": \"12342353454353245234\"\n",
    "  }\n",
    "]"
   ]
  },
  {
   "cell_type": "code",
   "execution_count": null,
   "metadata": {},
   "outputs": [],
   "source": []
  },
  {
   "cell_type": "code",
   "execution_count": 69,
   "metadata": {},
   "outputs": [],
   "source": [
    "new_app_resp = requests.post(base_url+'/application',headers=headers,json=new_app_details)"
   ]
  },
  {
   "cell_type": "code",
   "execution_count": 71,
   "metadata": {},
   "outputs": [
    {
     "data": {
      "text/plain": [
       "{'response': {'detail': 'Policy Manager JSON Error',\n",
       "  'errorCode': 'BadRequest',\n",
       "  'message': 'Can not construct instance of int from String value \\'int\\': not a valid Integer value\\n at [Source: ; line: 1, column: 679] (through reference chain: java.util.ArrayList[0]->com.cisco.enc.policymanager.ApplicationDTO[\"applicationIpPortClassifiers\"]->java.util.ArrayList[0]->com.cisco.enc.policymanager.ApplicationIpPortClassifierDTO[\"ipPorts\"]->java.util.ArrayList[0])'},\n",
       " 'version': '1.0'}"
      ]
     },
     "execution_count": 71,
     "metadata": {},
     "output_type": "execute_result"
    }
   ],
   "source": [
    "new_app_resp.json()"
   ]
  },
  {
   "cell_type": "code",
   "execution_count": null,
   "metadata": {},
   "outputs": [],
   "source": []
  },
  {
   "cell_type": "code",
   "execution_count": null,
   "metadata": {},
   "outputs": [],
   "source": []
  },
  {
   "cell_type": "code",
   "execution_count": null,
   "metadata": {},
   "outputs": [],
   "source": []
  }
 ],
 "metadata": {
  "kernelspec": {
   "display_name": "Python 3",
   "language": "python",
   "name": "python3"
  },
  "language_info": {
   "codemirror_mode": {
    "name": "ipython",
    "version": 3
   },
   "file_extension": ".py",
   "mimetype": "text/x-python",
   "name": "python",
   "nbconvert_exporter": "python",
   "pygments_lexer": "ipython3",
   "version": "3.5.2"
  }
 },
 "nbformat": 4,
 "nbformat_minor": 2
}
