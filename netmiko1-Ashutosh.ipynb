{
 "cells": [
  {
   "cell_type": "code",
   "execution_count": 2,
   "metadata": {},
   "outputs": [],
   "source": [
    "from netmiko import ConnectHandler"
   ]
  },
  {
   "cell_type": "code",
   "execution_count": 3,
   "metadata": {},
   "outputs": [],
   "source": [
    "USERNAME,PASSWORD = 'cisco','cisco'"
   ]
  },
  {
   "cell_type": "code",
   "execution_count": 4,
   "metadata": {},
   "outputs": [],
   "source": [
    "ips = ['172.16.1.1']\n",
    "ip = ips[0]"
   ]
  },
  {
   "cell_type": "code",
   "execution_count": 5,
   "metadata": {},
   "outputs": [],
   "source": [
    "rd = {\n",
    "    'username':USERNAME,\n",
    "    'password':PASSWORD,\n",
    "    'device_type':'cisco_ios',\n",
    "    'ip': ip,\n",
    "    'secret':PASSWORD\n",
    "}"
   ]
  },
  {
   "cell_type": "code",
   "execution_count": 103,
   "metadata": {},
   "outputs": [],
   "source": [
    "rc = ConnectHandler(**rd)"
   ]
  },
  {
   "cell_type": "code",
   "execution_count": 66,
   "metadata": {},
   "outputs": [
    {
     "data": {
      "text/plain": [
       "'enable\\r\\nPassword: \\r\\nIOU1#'"
      ]
     },
     "execution_count": 66,
     "metadata": {},
     "output_type": "execute_result"
    }
   ],
   "source": [
    "rc.enable()"
   ]
  },
  {
   "cell_type": "code",
   "execution_count": 71,
   "metadata": {},
   "outputs": [],
   "source": [
    "output_rtr= rc.send_command(\"sh ver\").splitlines()[0].split()[7]"
   ]
  },
  {
   "cell_type": "code",
   "execution_count": 70,
   "metadata": {},
   "outputs": [
    {
     "name": "stdout",
     "output_type": "stream",
     "text": [
      "0 15.5(2)T,\n"
     ]
    }
   ],
   "source": [
    "for i,line in enumerate(output_rtr):\n",
    "    print(i,line)"
   ]
  },
  {
   "cell_type": "code",
   "execution_count": 72,
   "metadata": {},
   "outputs": [],
   "source": [
    "output_rtr= rc.send_command(\"sh users\").splitlines()"
   ]
  },
  {
   "cell_type": "code",
   "execution_count": 73,
   "metadata": {},
   "outputs": [
    {
     "data": {
      "text/plain": [
       "['    Line       User       Host(s)              Idle       Location',\n",
       " '   0 con 0                idle                 00:26:57   ',\n",
       " '*  2 vty 0     cisco      idle                 00:00:00 172.16.128.1',\n",
       " '   5 vty 3     cisco      idle                 00:02:59 172.16.128.1',\n",
       " '   6 vty 4     cisco      idle                 00:01:40 172.16.128.1',\n",
       " '',\n",
       " '  Interface    User               Mode         Idle     Peer Address']"
      ]
     },
     "execution_count": 73,
     "metadata": {},
     "output_type": "execute_result"
    }
   ],
   "source": [
    "output_rtr"
   ]
  },
  {
   "cell_type": "code",
   "execution_count": 19,
   "metadata": {},
   "outputs": [
    {
     "data": {
      "text/plain": [
       "['Cisco IOS Software, Linux Software (I86BI_LINUX-ADVENTERPRISEK9-M), Version 15.5(2)T, DEVELOPMENT TEST SOFTWARE',\n",
       " 'Technical Support: http://www.cisco.com/techsupport',\n",
       " 'Copyright (c) 1986-2015 by Cisco Systems, Inc.',\n",
       " 'Compiled Thu 26-Mar-15 07:36 by prod_rel_team',\n",
       " '',\n",
       " 'ROM: Bootstrap program is Linux',\n",
       " '',\n",
       " 'IOU1 uptime is 1 day, 23 hours, 41 minutes',\n",
       " 'System returned to ROM by reload at 0',\n",
       " 'System image file is \"unix:/opt/gns3/images/IOU/i86bi_linux-adventerprisek9-ms.155-2.T.bin\"',\n",
       " 'Last reload reason: Unknown reason',\n",
       " '',\n",
       " '',\n",
       " '',\n",
       " 'This product contains cryptographic features and is subject to United',\n",
       " 'States and local country laws governing import, export, transfer and',\n",
       " 'use. Delivery of Cisco cryptographic products does not imply',\n",
       " 'third-party authority to import, export, distribute or use encryption.',\n",
       " 'Importers, exporters, distributors and users are responsible for',\n",
       " 'compliance with U.S. and local country laws. By using this product you',\n",
       " 'agree to comply with applicable laws and regulations. If you are unable',\n",
       " 'to comply with U.S. and local laws, return this product immediately.',\n",
       " '',\n",
       " 'A summary of U.S. laws governing Cisco cryptographic products may be found at:',\n",
       " 'http://www.cisco.com/wwl/export/crypto/tool/stqrg.html',\n",
       " '',\n",
       " 'If you require further assistance please contact us by sending email to',\n",
       " 'export@cisco.com.',\n",
       " '',\n",
       " 'Linux Unix (Intel-x86) processor with 87588K bytes of memory.',\n",
       " 'Processor board ID 2048004',\n",
       " '8 Ethernet interfaces',\n",
       " '8 Serial interfaces',\n",
       " '64K bytes of NVRAM.',\n",
       " '',\n",
       " '',\n",
       " '',\n",
       " 'Configuration register is 0x0']"
      ]
     },
     "execution_count": 19,
     "metadata": {},
     "output_type": "execute_result"
    }
   ],
   "source": [
    "output_rtr[]"
   ]
  },
  {
   "cell_type": "code",
   "execution_count": 74,
   "metadata": {},
   "outputs": [
    {
     "data": {
      "text/plain": [
       "['Interface                  IP-Address      OK? Method Status                Protocol',\n",
       " 'Ethernet0/0                unassigned      YES NVRAM  administratively down down    ',\n",
       " 'Ethernet0/1                unassigned      YES NVRAM  administratively down down    ',\n",
       " 'Ethernet0/2                unassigned      YES NVRAM  administratively down down    ',\n",
       " 'Ethernet0/3                unassigned      YES NVRAM  administratively down down    ',\n",
       " 'Ethernet1/0                unassigned      YES NVRAM  administratively down down    ',\n",
       " 'Ethernet1/1                unassigned      YES NVRAM  administratively down down    ',\n",
       " 'Ethernet1/2                unassigned      YES NVRAM  administratively down down    ',\n",
       " 'Ethernet1/3                172.16.128.2    YES NVRAM  up                    up      ',\n",
       " 'Serial2/0                  unassigned      YES NVRAM  administratively down down    ',\n",
       " 'Serial2/1                  unassigned      YES NVRAM  administratively down down    ',\n",
       " 'Serial2/2                  unassigned      YES NVRAM  administratively down down    ',\n",
       " 'Serial2/3                  unassigned      YES NVRAM  administratively down down    ',\n",
       " 'Serial3/0                  unassigned      YES NVRAM  administratively down down    ',\n",
       " 'Serial3/1                  unassigned      YES NVRAM  administratively down down    ',\n",
       " 'Serial3/2                  unassigned      YES NVRAM  administratively down down    ',\n",
       " 'Serial3/3                  unassigned      YES NVRAM  administratively down down    ',\n",
       " 'Loopback0                  172.16.1.1      YES manual up                    up      ']"
      ]
     },
     "execution_count": 74,
     "metadata": {},
     "output_type": "execute_result"
    }
   ],
   "source": [
    "rc.send_command(\"sh ip int br\").splitlines()"
   ]
  },
  {
   "cell_type": "code",
   "execution_count": 75,
   "metadata": {},
   "outputs": [],
   "source": [
    "commands = ['sh ip int br','sh cdp nei','sh ip route']"
   ]
  },
  {
   "cell_type": "code",
   "execution_count": 76,
   "metadata": {},
   "outputs": [],
   "source": [
    "outputs= list()"
   ]
  },
  {
   "cell_type": "code",
   "execution_count": 77,
   "metadata": {},
   "outputs": [],
   "source": [
    "for command in commands:\n",
    "    outputs.append(rc.send_command(command))\n",
    "    "
   ]
  },
  {
   "cell_type": "code",
   "execution_count": 84,
   "metadata": {},
   "outputs": [
    {
     "ename": "SyntaxError",
     "evalue": "unexpected EOF while parsing (<ipython-input-84-40b252883e44>, line 2)",
     "output_type": "error",
     "traceback": [
      "\u001b[0;36m  File \u001b[0;32m\"<ipython-input-84-40b252883e44>\"\u001b[0;36m, line \u001b[0;32m2\u001b[0m\n\u001b[0;31m    for output in outputs :\u001b[0m\n\u001b[0m                           ^\u001b[0m\n\u001b[0;31mSyntaxError\u001b[0m\u001b[0;31m:\u001b[0m unexpected EOF while parsing\n"
     ]
    }
   ],
   "source": [
    "outputs\n",
    "for output in outputs :"
   ]
  },
  {
   "cell_type": "code",
   "execution_count": 85,
   "metadata": {},
   "outputs": [],
   "source": [
    "with open(\"logs.txt\", 'w') as outlog:\n",
    "    outlog.write(\"my name is Ashutosh\\n this is new line\")\n",
    "    "
   ]
  },
  {
   "cell_type": "code",
   "execution_count": 88,
   "metadata": {},
   "outputs": [],
   "source": [
    "with open(\"Ashutosh_logs.txt\", 'w') as outlog:\n",
    "    for output in outputs:\n",
    "        outlog.write(output)"
   ]
  },
  {
   "cell_type": "code",
   "execution_count": 93,
   "metadata": {},
   "outputs": [],
   "source": [
    "with open(\"Ashutosh_logs.txt\", 'w') as outlog:\n",
    "    for output in outputs:\n",
    "        outlog.write(output+\"\\n\\n\"+('-'*55)+'\\n\\n')"
   ]
  },
  {
   "cell_type": "code",
   "execution_count": 81,
   "metadata": {},
   "outputs": [],
   "source": [
    "#rc.disconnect()"
   ]
  },
  {
   "cell_type": "code",
   "execution_count": 94,
   "metadata": {},
   "outputs": [],
   "source": [
    "with open(\"new_logs.txt\", 'w') as newoutlog:\n",
    "    newoutlog.write(\"my name is Ashutosh\\n this is new line\")"
   ]
  },
  {
   "cell_type": "code",
   "execution_count": 95,
   "metadata": {},
   "outputs": [],
   "source": [
    "command_dict= {\"active_interfaces\":\"sh ip int br | ex admin\",\n",
    "              \"routing_table\":\"sh ip route\"}"
   ]
  },
  {
   "cell_type": "code",
   "execution_count": 96,
   "metadata": {},
   "outputs": [],
   "source": [
    "outputs= dict()"
   ]
  },
  {
   "cell_type": "code",
   "execution_count": 99,
   "metadata": {},
   "outputs": [
    {
     "name": "stdout",
     "output_type": "stream",
     "text": [
      "active_interfaces sh ip int br | ex admin\n",
      "routing_table sh ip route\n"
     ]
    }
   ],
   "source": [
    "for key,val in command_dict.items():\n",
    "    print(key,val)"
   ]
  },
  {
   "cell_type": "code",
   "execution_count": 106,
   "metadata": {},
   "outputs": [
    {
     "name": "stdout",
     "output_type": "stream",
     "text": [
      "active_interfaces sh ip int br | ex admin\n",
      "Interface                  IP-Address      OK? Method Status                Protocol\n",
      "Ethernet1/3                172.16.128.2    YES NVRAM  up                    up      \n",
      "Loopback0                  172.16.1.1      YES manual up                    up      \n",
      "\n",
      "routing_table sh ip route\n",
      "Codes: L - local, C - connected, S - static, R - RIP, M - mobile, B - BGP\n",
      "       D - EIGRP, EX - EIGRP external, O - OSPF, IA - OSPF inter area \n",
      "       N1 - OSPF NSSA external type 1, N2 - OSPF NSSA external type 2\n",
      "       E1 - OSPF external type 1, E2 - OSPF external type 2\n",
      "       i - IS-IS, su - IS-IS summary, L1 - IS-IS level-1, L2 - IS-IS level-2\n",
      "       ia - IS-IS inter area, * - candidate default, U - per-user static route\n",
      "       o - ODR, P - periodic downloaded static route, H - NHRP, l - LISP\n",
      "       a - application route\n",
      "       + - replicated route, % - next hop override\n",
      "\n",
      "Gateway of last resort is 172.16.128.1 to network 0.0.0.0\n",
      "\n",
      "O*E2  0.0.0.0/0 [110/10] via 172.16.128.1, 21:20:12, Ethernet1/3\n",
      "      172.16.0.0/16 is variably subnetted, 3 subnets, 2 masks\n",
      "C        172.16.1.1/32 is directly connected, Loopback0\n",
      "C        172.16.128.0/24 is directly connected, Ethernet1/3\n",
      "L        172.16.128.2/32 is directly connected, Ethernet1/3\n"
     ]
    }
   ],
   "source": [
    "for title,comm in command_dict.items():\n",
    "    print(title,comm)\n",
    "    print(rc.send_command(comm))"
   ]
  },
  {
   "cell_type": "code",
   "execution_count": 109,
   "metadata": {},
   "outputs": [
    {
     "data": {
      "text/plain": [
       "{'active_interfaces': 'Interface                  IP-Address      OK? Method Status                Protocol\\nEthernet1/3                172.16.128.2    YES NVRAM  up                    up      \\nLoopback0                  172.16.1.1      YES manual up                    up      \\n',\n",
       " 'routing_table': 'Codes: L - local, C - connected, S - static, R - RIP, M - mobile, B - BGP\\n       D - EIGRP, EX - EIGRP external, O - OSPF, IA - OSPF inter area \\n       N1 - OSPF NSSA external type 1, N2 - OSPF NSSA external type 2\\n       E1 - OSPF external type 1, E2 - OSPF external type 2\\n       i - IS-IS, su - IS-IS summary, L1 - IS-IS level-1, L2 - IS-IS level-2\\n       ia - IS-IS inter area, * - candidate default, U - per-user static route\\n       o - ODR, P - periodic downloaded static route, H - NHRP, l - LISP\\n       a - application route\\n       + - replicated route, % - next hop override\\n\\nGateway of last resort is 172.16.128.1 to network 0.0.0.0\\n\\nO*E2  0.0.0.0/0 [110/10] via 172.16.128.1, 21:24:27, Ethernet1/3\\n      172.16.0.0/16 is variably subnetted, 3 subnets, 2 masks\\nC        172.16.1.1/32 is directly connected, Loopback0\\nC        172.16.128.0/24 is directly connected, Ethernet1/3\\nL        172.16.128.2/32 is directly connected, Ethernet1/3'}"
      ]
     },
     "execution_count": 109,
     "metadata": {},
     "output_type": "execute_result"
    }
   ],
   "source": [
    "command_dict= {\"active_interfaces\":\"sh ip int br | ex admin\",\n",
    "              \"routing_table\":\"sh ip route\"}\n",
    "outputs= dict()\n",
    "for title,comm in command_dict.items():\n",
    "    outputs[title]= rc.send_command(comm)\n",
    "    \n",
    "outputs\n"
   ]
  },
  {
   "cell_type": "code",
   "execution_count": 111,
   "metadata": {},
   "outputs": [
    {
     "data": {
      "text/plain": [
       "['Codes: L - local, C - connected, S - static, R - RIP, M - mobile, B - BGP',\n",
       " '       D - EIGRP, EX - EIGRP external, O - OSPF, IA - OSPF inter area ',\n",
       " '       N1 - OSPF NSSA external type 1, N2 - OSPF NSSA external type 2',\n",
       " '       E1 - OSPF external type 1, E2 - OSPF external type 2',\n",
       " '       i - IS-IS, su - IS-IS summary, L1 - IS-IS level-1, L2 - IS-IS level-2',\n",
       " '       ia - IS-IS inter area, * - candidate default, U - per-user static route',\n",
       " '       o - ODR, P - periodic downloaded static route, H - NHRP, l - LISP',\n",
       " '       a - application route',\n",
       " '       + - replicated route, % - next hop override',\n",
       " '',\n",
       " 'Gateway of last resort is 172.16.128.1 to network 0.0.0.0',\n",
       " '',\n",
       " 'O*E2  0.0.0.0/0 [110/10] via 172.16.128.1, 21:24:27, Ethernet1/3',\n",
       " '      172.16.0.0/16 is variably subnetted, 3 subnets, 2 masks',\n",
       " 'C        172.16.1.1/32 is directly connected, Loopback0',\n",
       " 'C        172.16.128.0/24 is directly connected, Ethernet1/3',\n",
       " 'L        172.16.128.2/32 is directly connected, Ethernet1/3']"
      ]
     },
     "execution_count": 111,
     "metadata": {},
     "output_type": "execute_result"
    }
   ],
   "source": [
    "outputs[\"routing_table\"].splitlines()"
   ]
  },
  {
   "cell_type": "code",
   "execution_count": 117,
   "metadata": {},
   "outputs": [],
   "source": [
    "command_dict= {\"active_interfaces\":\"sh ip int br | ex admin\",\n",
    "              \"routing_table\":\"sh ip route\"}\n",
    "outputs= dict()\n",
    "for title,comm in command_dict.items():\n",
    "    outputs[title]= rc.send_command(comm)\n",
    "#     print(rc.send_command(comm))[+'-'*25+tilte+'-'*25+\"\\n\\n\"+'-'*25+tile+'-'*25]"
   ]
  },
  {
   "cell_type": "code",
   "execution_count": 118,
   "metadata": {},
   "outputs": [
    {
     "data": {
      "text/plain": [
       "{'active_interfaces': 'Interface                  IP-Address      OK? Method Status                Protocol\\nEthernet1/3                172.16.128.2    YES NVRAM  up                    up      \\nLoopback0                  172.16.1.1      YES manual up                    up      \\n',\n",
       " 'routing_table': 'Codes: L - local, C - connected, S - static, R - RIP, M - mobile, B - BGP\\n       D - EIGRP, EX - EIGRP external, O - OSPF, IA - OSPF inter area \\n       N1 - OSPF NSSA external type 1, N2 - OSPF NSSA external type 2\\n       E1 - OSPF external type 1, E2 - OSPF external type 2\\n       i - IS-IS, su - IS-IS summary, L1 - IS-IS level-1, L2 - IS-IS level-2\\n       ia - IS-IS inter area, * - candidate default, U - per-user static route\\n       o - ODR, P - periodic downloaded static route, H - NHRP, l - LISP\\n       a - application route\\n       + - replicated route, % - next hop override\\n\\nGateway of last resort is 172.16.128.1 to network 0.0.0.0\\n\\nO*E2  0.0.0.0/0 [110/10] via 172.16.128.1, 21:32:23, Ethernet1/3\\n      172.16.0.0/16 is variably subnetted, 3 subnets, 2 masks\\nC        172.16.1.1/32 is directly connected, Loopback0\\nC        172.16.128.0/24 is directly connected, Ethernet1/3\\nL        172.16.128.2/32 is directly connected, Ethernet1/3'}"
      ]
     },
     "execution_count": 118,
     "metadata": {},
     "output_type": "execute_result"
    }
   ],
   "source": [
    "outputs"
   ]
  },
  {
   "cell_type": "code",
   "execution_count": 131,
   "metadata": {},
   "outputs": [
    {
     "name": "stdout",
     "output_type": "stream",
     "text": [
      "\n",
      "\n",
      "-------------------------active_interfaces-------------------------\n",
      "\n",
      "\n",
      "Interface                  IP-Address      OK? Method Status                Protocol\n",
      "Ethernet1/3                172.16.128.2    YES NVRAM  up                    up      \n",
      "Loopback0                  172.16.1.1      YES manual up                    up      \n",
      "\n",
      "\n",
      "\n",
      "-------------------------routing_table-------------------------\n",
      "\n",
      "\n",
      "Codes: L - local, C - connected, S - static, R - RIP, M - mobile, B - BGP\n",
      "       D - EIGRP, EX - EIGRP external, O - OSPF, IA - OSPF inter area \n",
      "       N1 - OSPF NSSA external type 1, N2 - OSPF NSSA external type 2\n",
      "       E1 - OSPF external type 1, E2 - OSPF external type 2\n",
      "       i - IS-IS, su - IS-IS summary, L1 - IS-IS level-1, L2 - IS-IS level-2\n",
      "       ia - IS-IS inter area, * - candidate default, U - per-user static route\n",
      "       o - ODR, P - periodic downloaded static route, H - NHRP, l - LISP\n",
      "       a - application route\n",
      "       + - replicated route, % - next hop override\n",
      "\n",
      "Gateway of last resort is 172.16.128.1 to network 0.0.0.0\n",
      "\n",
      "O*E2  0.0.0.0/0 [110/10] via 172.16.128.1, 21:32:23, Ethernet1/3\n",
      "      172.16.0.0/16 is variably subnetted, 3 subnets, 2 masks\n",
      "C        172.16.1.1/32 is directly connected, Loopback0\n",
      "C        172.16.128.0/24 is directly connected, Ethernet1/3\n",
      "L        172.16.128.2/32 is directly connected, Ethernet1/3\n"
     ]
    }
   ],
   "source": [
    "for title,rtr_op in outputs.items():\n",
    "    heading= \"\\n\\n\" + '-'*25 +title +'-'*25 +\"\\n\\n\"\n",
    "    print(heading)\n",
    "    print(rtr_op)"
   ]
  },
  {
   "cell_type": "code",
   "execution_count": null,
   "metadata": {},
   "outputs": [],
   "source": [
    "command_dict= {\"active_interfaces\":\"sh ip int br | ex admin\",\n",
    "              \"routing_table\":\"sh ip route\"}\n",
    "outputs= dict()\n",
    "with open (ashutosh_logs.txt, 'a') as log_op:\n",
    "    for\n",
    "for title,comm in command_dict.items():\n",
    "    outputs[title]= rc.send_command(comm)"
   ]
  }
 ],
 "metadata": {
  "kernelspec": {
   "display_name": "Python 3",
   "language": "python",
   "name": "python3"
  },
  "language_info": {
   "codemirror_mode": {
    "name": "ipython",
    "version": 3
   },
   "file_extension": ".py",
   "mimetype": "text/x-python",
   "name": "python",
   "nbconvert_exporter": "python",
   "pygments_lexer": "ipython3",
   "version": "3.5.2"
  }
 },
 "nbformat": 4,
 "nbformat_minor": 2
}
