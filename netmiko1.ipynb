{
 "cells": [
  {
   "cell_type": "code",
   "execution_count": 73,
   "metadata": {},
   "outputs": [],
   "source": [
    "from netmiko import ConnectHandler"
   ]
  },
  {
   "cell_type": "code",
   "execution_count": 74,
   "metadata": {},
   "outputs": [],
   "source": [
    "USERNAME,PASSWORD = 'cisco','cisco'"
   ]
  },
  {
   "cell_type": "code",
   "execution_count": 75,
   "metadata": {},
   "outputs": [],
   "source": [
    "ips = ['172.16.1.1']\n",
    "ip = ips[0]"
   ]
  },
  {
   "cell_type": "code",
   "execution_count": 76,
   "metadata": {},
   "outputs": [],
   "source": [
    "rd = {\n",
    "    'username':USERNAME,\n",
    "    'password':PASSWORD,\n",
    "    'device_type':'cisco_ios',\n",
    "    'ip': ip,\n",
    "    'secret':PASSWORD\n",
    "}"
   ]
  },
  {
   "cell_type": "code",
   "execution_count": 77,
   "metadata": {},
   "outputs": [],
   "source": [
    "rc = ConnectHandler(**rd)"
   ]
  },
  {
   "cell_type": "code",
   "execution_count": 78,
   "metadata": {},
   "outputs": [
    {
     "data": {
      "text/plain": [
       "'enable\\r\\nPassword: \\r\\nIOU1#'"
      ]
     },
     "execution_count": 78,
     "metadata": {},
     "output_type": "execute_result"
    }
   ],
   "source": [
    "rc.enable()"
   ]
  },
  {
   "cell_type": "code",
   "execution_count": 79,
   "metadata": {},
   "outputs": [
    {
     "data": {
      "text/plain": [
       "['Interface                  IP-Address      OK? Method Status                Protocol',\n",
       " 'Ethernet0/0                unassigned      YES NVRAM  administratively down down    ',\n",
       " 'Ethernet0/1                unassigned      YES NVRAM  administratively down down    ',\n",
       " 'Ethernet0/2                unassigned      YES NVRAM  administratively down down    ',\n",
       " 'Ethernet0/3                unassigned      YES NVRAM  administratively down down    ',\n",
       " 'Ethernet1/0                unassigned      YES NVRAM  administratively down down    ',\n",
       " 'Ethernet1/1                unassigned      YES NVRAM  administratively down down    ',\n",
       " 'Ethernet1/2                unassigned      YES NVRAM  administratively down down    ',\n",
       " 'Ethernet1/3                172.16.128.2    YES NVRAM  up                    up      ',\n",
       " 'Serial2/0                  unassigned      YES NVRAM  administratively down down    ',\n",
       " 'Serial2/1                  unassigned      YES NVRAM  administratively down down    ',\n",
       " 'Serial2/2                  unassigned      YES NVRAM  administratively down down    ',\n",
       " 'Serial2/3                  unassigned      YES NVRAM  administratively down down    ',\n",
       " 'Serial3/0                  unassigned      YES NVRAM  administratively down down    ',\n",
       " 'Serial3/1                  unassigned      YES NVRAM  administratively down down    ',\n",
       " 'Serial3/2                  unassigned      YES NVRAM  administratively down down    ',\n",
       " 'Serial3/3                  unassigned      YES NVRAM  administratively down down    ',\n",
       " 'Loopback0                  172.16.1.1      YES manual up                    up      ']"
      ]
     },
     "execution_count": 79,
     "metadata": {},
     "output_type": "execute_result"
    }
   ],
   "source": [
    "rc.send_command(\"sh ip int br\").splitlines()"
   ]
  },
  {
   "cell_type": "code",
   "execution_count": 80,
   "metadata": {},
   "outputs": [],
   "source": [
    "rc = ConnectHandler(**rd)"
   ]
  },
  {
   "cell_type": "code",
   "execution_count": 81,
   "metadata": {},
   "outputs": [
    {
     "data": {
      "text/plain": [
       "'enable\\r\\nPassword: \\r\\nIOU1#'"
      ]
     },
     "execution_count": 81,
     "metadata": {},
     "output_type": "execute_result"
    }
   ],
   "source": [
    "rc.enable()"
   ]
  },
  {
   "cell_type": "code",
   "execution_count": 82,
   "metadata": {},
   "outputs": [],
   "source": [
    "output = rc.send_command(\"show ver\").splitlines()"
   ]
  },
  {
   "cell_type": "code",
   "execution_count": 83,
   "metadata": {},
   "outputs": [
    {
     "data": {
      "text/plain": [
       "'15.5(2)T,'"
      ]
     },
     "execution_count": 83,
     "metadata": {},
     "output_type": "execute_result"
    }
   ],
   "source": [
    "output[0].split()[7]"
   ]
  },
  {
   "cell_type": "code",
   "execution_count": 120,
   "metadata": {},
   "outputs": [],
   "source": [
    "rc = ConnectHandler(**rd)"
   ]
  },
  {
   "cell_type": "code",
   "execution_count": 121,
   "metadata": {},
   "outputs": [
    {
     "data": {
      "text/plain": [
       "'enable\\r\\nPassword: \\r\\nIOU1#'"
      ]
     },
     "execution_count": 121,
     "metadata": {},
     "output_type": "execute_result"
    }
   ],
   "source": [
    "rc.enable()"
   ]
  },
  {
   "cell_type": "code",
   "execution_count": 122,
   "metadata": {},
   "outputs": [],
   "source": [
    "output = rc.send_command(\"show ip ospf nei \").splitlines()"
   ]
  },
  {
   "cell_type": "code",
   "execution_count": 123,
   "metadata": {},
   "outputs": [
    {
     "data": {
      "text/plain": [
       "['',\n",
       " 'Neighbor ID     Pri   State           Dead Time   Address         Interface',\n",
       " '192.168.122.1     1   FULL/BDR        00:00:39    172.16.128.1    Ethernet1/3']"
      ]
     },
     "execution_count": 123,
     "metadata": {},
     "output_type": "execute_result"
    }
   ],
   "source": [
    "output"
   ]
  },
  {
   "cell_type": "code",
   "execution_count": 132,
   "metadata": {},
   "outputs": [],
   "source": [
    "commands = ['show ip ospf nei', 'show ip int bri','show ip route']"
   ]
  },
  {
   "cell_type": "code",
   "execution_count": 133,
   "metadata": {},
   "outputs": [],
   "source": [
    "output = list()"
   ]
  },
  {
   "cell_type": "code",
   "execution_count": 136,
   "metadata": {},
   "outputs": [],
   "source": [
    "for command in commands:\n",
    "    output.append(rc.send_command(command))\n",
    "    with open (\"sat_out.txt\",'w') as outf:\n",
    "        outf.writelines(output)"
   ]
  },
  {
   "cell_type": "code",
   "execution_count": 137,
   "metadata": {},
   "outputs": [
    {
     "data": {
      "text/plain": [
       "['\\nNeighbor ID     Pri   State           Dead Time   Address         Interface\\n192.168.122.1     1   FULL/BDR        00:00:31    172.16.128.1    Ethernet1/3',\n",
       " 'Interface                  IP-Address      OK? Method Status                Protocol\\nEthernet0/0                unassigned      YES NVRAM  administratively down down    \\nEthernet0/1                unassigned      YES NVRAM  administratively down down    \\nEthernet0/2                unassigned      YES NVRAM  administratively down down    \\nEthernet0/3                unassigned      YES NVRAM  administratively down down    \\nEthernet1/0                unassigned      YES NVRAM  administratively down down    \\nEthernet1/1                unassigned      YES NVRAM  administratively down down    \\nEthernet1/2                unassigned      YES NVRAM  administratively down down    \\nEthernet1/3                172.16.128.2    YES NVRAM  up                    up      \\nSerial2/0                  unassigned      YES NVRAM  administratively down down    \\nSerial2/1                  unassigned      YES NVRAM  administratively down down    \\nSerial2/2                  unassigned      YES NVRAM  administratively down down    \\nSerial2/3                  unassigned      YES NVRAM  administratively down down    \\nSerial3/0                  unassigned      YES NVRAM  administratively down down    \\nSerial3/1                  unassigned      YES NVRAM  administratively down down    \\nSerial3/2                  unassigned      YES NVRAM  administratively down down    \\nSerial3/3                  unassigned      YES NVRAM  administratively down down    \\nLoopback0                  172.16.1.1      YES manual up                    up      ',\n",
       " 'Codes: L - local, C - connected, S - static, R - RIP, M - mobile, B - BGP\\n       D - EIGRP, EX - EIGRP external, O - OSPF, IA - OSPF inter area \\n       N1 - OSPF NSSA external type 1, N2 - OSPF NSSA external type 2\\n       E1 - OSPF external type 1, E2 - OSPF external type 2\\n       i - IS-IS, su - IS-IS summary, L1 - IS-IS level-1, L2 - IS-IS level-2\\n       ia - IS-IS inter area, * - candidate default, U - per-user static route\\n       o - ODR, P - periodic downloaded static route, H - NHRP, l - LISP\\n       a - application route\\n       + - replicated route, % - next hop override\\n\\nGateway of last resort is 172.16.128.1 to network 0.0.0.0\\n\\nO*E2  0.0.0.0/0 [110/10] via 172.16.128.1, 20:36:54, Ethernet1/3\\n      172.16.0.0/16 is variably subnetted, 3 subnets, 2 masks\\nC        172.16.1.1/32 is directly connected, Loopback0\\nC        172.16.128.0/24 is directly connected, Ethernet1/3\\nL        172.16.128.2/32 is directly connected, Ethernet1/3',\n",
       " '\\nNeighbor ID     Pri   State           Dead Time   Address         Interface\\n192.168.122.1     1   FULL/BDR        00:00:34    172.16.128.1    Ethernet1/3',\n",
       " 'Interface                  IP-Address      OK? Method Status                Protocol\\nEthernet0/0                unassigned      YES NVRAM  administratively down down    \\nEthernet0/1                unassigned      YES NVRAM  administratively down down    \\nEthernet0/2                unassigned      YES NVRAM  administratively down down    \\nEthernet0/3                unassigned      YES NVRAM  administratively down down    \\nEthernet1/0                unassigned      YES NVRAM  administratively down down    \\nEthernet1/1                unassigned      YES NVRAM  administratively down down    \\nEthernet1/2                unassigned      YES NVRAM  administratively down down    \\nEthernet1/3                172.16.128.2    YES NVRAM  up                    up      \\nSerial2/0                  unassigned      YES NVRAM  administratively down down    \\nSerial2/1                  unassigned      YES NVRAM  administratively down down    \\nSerial2/2                  unassigned      YES NVRAM  administratively down down    \\nSerial2/3                  unassigned      YES NVRAM  administratively down down    \\nSerial3/0                  unassigned      YES NVRAM  administratively down down    \\nSerial3/1                  unassigned      YES NVRAM  administratively down down    \\nSerial3/2                  unassigned      YES NVRAM  administratively down down    \\nSerial3/3                  unassigned      YES NVRAM  administratively down down    \\nLoopback0                  172.16.1.1      YES manual up                    up      ',\n",
       " 'Codes: L - local, C - connected, S - static, R - RIP, M - mobile, B - BGP\\n       D - EIGRP, EX - EIGRP external, O - OSPF, IA - OSPF inter area \\n       N1 - OSPF NSSA external type 1, N2 - OSPF NSSA external type 2\\n       E1 - OSPF external type 1, E2 - OSPF external type 2\\n       i - IS-IS, su - IS-IS summary, L1 - IS-IS level-1, L2 - IS-IS level-2\\n       ia - IS-IS inter area, * - candidate default, U - per-user static route\\n       o - ODR, P - periodic downloaded static route, H - NHRP, l - LISP\\n       a - application route\\n       + - replicated route, % - next hop override\\n\\nGateway of last resort is 172.16.128.1 to network 0.0.0.0\\n\\nO*E2  0.0.0.0/0 [110/10] via 172.16.128.1, 20:37:40, Ethernet1/3\\n      172.16.0.0/16 is variably subnetted, 3 subnets, 2 masks\\nC        172.16.1.1/32 is directly connected, Loopback0\\nC        172.16.128.0/24 is directly connected, Ethernet1/3\\nL        172.16.128.2/32 is directly connected, Ethernet1/3']"
      ]
     },
     "execution_count": 137,
     "metadata": {},
     "output_type": "execute_result"
    }
   ],
   "source": [
    "output"
   ]
  },
  {
   "cell_type": "code",
   "execution_count": 142,
   "metadata": {},
   "outputs": [],
   "source": [
    "with open (\"logsap7.txt\",'w') as outf:\n",
    "    outf.write(\"some text file written '\\n' This is a new line\")"
   ]
  },
  {
   "cell_type": "code",
   "execution_count": 148,
   "metadata": {},
   "outputs": [],
   "source": [
    "commands_dict = {\"active-interfaces\": \"sh ip int bri | ex admin\", \"routing-table\": \"show ip route\"}"
   ]
  },
  {
   "cell_type": "code",
   "execution_count": 155,
   "metadata": {},
   "outputs": [
    {
     "data": {
      "text/plain": [
       "'enable\\r\\nPassword: \\r\\nIOU1#'"
      ]
     },
     "execution_count": 155,
     "metadata": {},
     "output_type": "execute_result"
    }
   ],
   "source": [
    "rc = ConnectHandler(**rd)\n",
    "rc.enable()"
   ]
  },
  {
   "cell_type": "code",
   "execution_count": null,
   "metadata": {},
   "outputs": [],
   "source": []
  },
  {
   "cell_type": "code",
   "execution_count": 164,
   "metadata": {},
   "outputs": [
    {
     "name": "stdout",
     "output_type": "stream",
     "text": [
      "---------------routing-table----------\n",
      "Codes: L - local, C - connected, S - static, R - RIP, M - mobile, B - BGP\n",
      "       D - EIGRP, EX - EIGRP external, O - OSPF, IA - OSPF inter area \n",
      "       N1 - OSPF NSSA external type 1, N2 - OSPF NSSA external type 2\n",
      "       E1 - OSPF external type 1, E2 - OSPF external type 2\n",
      "       i - IS-IS, su - IS-IS summary, L1 - IS-IS level-1, L2 - IS-IS level-2\n",
      "       ia - IS-IS inter area, * - candidate default, U - per-user static route\n",
      "       o - ODR, P - periodic downloaded static route, H - NHRP, l - LISP\n",
      "       a - application route\n",
      "       + - replicated route, % - next hop override\n",
      "\n",
      "Gateway of last resort is 172.16.128.1 to network 0.0.0.0\n",
      "\n",
      "O*E2  0.0.0.0/0 [110/10] via 172.16.128.1, 21:31:48, Ethernet1/3\n",
      "      172.16.0.0/16 is variably subnetted, 3 subnets, 2 masks\n",
      "C        172.16.1.1/32 is directly connected, Loopback0\n",
      "C        172.16.128.0/24 is directly connected, Ethernet1/3\n",
      "L        172.16.128.2/32 is directly connected, Ethernet1/3\n",
      "---------------end of file------------\n"
     ]
    }
   ],
   "source": [
    "outputs=dict()\n",
    "for cmd_title,cmd in commands_dict.items():\n",
    "    outputs[cmd_title]=rc.send_command(cmd)\n",
    "    outputs[\"routing-table\"]"
   ]
  },
  {
   "cell_type": "code",
   "execution_count": 166,
   "metadata": {},
   "outputs": [],
   "source": [
    "outputs=dict()\n",
    "for cmd_title,cmd in commands_dict.items():\n",
    "    \n",
    "    outputs[cmd_title]=rc.send_command(cmd)\n",
    "    "
   ]
  },
  {
   "cell_type": "code",
   "execution_count": 167,
   "metadata": {},
   "outputs": [
    {
     "data": {
      "text/plain": [
       "{'active-interfaces': 'Interface                  IP-Address      OK? Method Status                Protocol\\nEthernet1/3                172.16.128.2    YES NVRAM  up                    up      \\nLoopback0                  172.16.1.1      YES manual up                    up      \\n',\n",
       " 'routing-table': 'Codes: L - local, C - connected, S - static, R - RIP, M - mobile, B - BGP\\n       D - EIGRP, EX - EIGRP external, O - OSPF, IA - OSPF inter area \\n       N1 - OSPF NSSA external type 1, N2 - OSPF NSSA external type 2\\n       E1 - OSPF external type 1, E2 - OSPF external type 2\\n       i - IS-IS, su - IS-IS summary, L1 - IS-IS level-1, L2 - IS-IS level-2\\n       ia - IS-IS inter area, * - candidate default, U - per-user static route\\n       o - ODR, P - periodic downloaded static route, H - NHRP, l - LISP\\n       a - application route\\n       + - replicated route, % - next hop override\\n\\nGateway of last resort is 172.16.128.1 to network 0.0.0.0\\n\\nO*E2  0.0.0.0/0 [110/10] via 172.16.128.1, 21:36:59, Ethernet1/3\\n      172.16.0.0/16 is variably subnetted, 3 subnets, 2 masks\\nC        172.16.1.1/32 is directly connected, Loopback0\\nC        172.16.128.0/24 is directly connected, Ethernet1/3\\nL        172.16.128.2/32 is directly connected, Ethernet1/3'}"
      ]
     },
     "execution_count": 167,
     "metadata": {},
     "output_type": "execute_result"
    }
   ],
   "source": [
    "outputs"
   ]
  },
  {
   "cell_type": "code",
   "execution_count": 184,
   "metadata": {},
   "outputs": [
    {
     "name": "stdout",
     "output_type": "stream",
     "text": [
      "\n",
      "\n",
      "-------------------------routing-table-------------------------\n",
      "\n",
      "Codes: L - local, C - connected, S - static, R - RIP, M - mobile, B - BGP\n",
      "       D - EIGRP, EX - EIGRP external, O - OSPF, IA - OSPF inter area \n",
      "       N1 - OSPF NSSA external type 1, N2 - OSPF NSSA external type 2\n",
      "       E1 - OSPF external type 1, E2 - OSPF external type 2\n",
      "       i - IS-IS, su - IS-IS summary, L1 - IS-IS level-1, L2 - IS-IS level-2\n",
      "       ia - IS-IS inter area, * - candidate default, U - per-user static route\n",
      "       o - ODR, P - periodic downloaded static route, H - NHRP, l - LISP\n",
      "       a - application route\n",
      "       + - replicated route, % - next hop override\n",
      "\n",
      "Gateway of last resort is 172.16.128.1 to network 0.0.0.0\n",
      "\n",
      "O*E2  0.0.0.0/0 [110/10] via 172.16.128.1, 21:36:59, Ethernet1/3\n",
      "      172.16.0.0/16 is variably subnetted, 3 subnets, 2 masks\n",
      "C        172.16.1.1/32 is directly connected, Loopback0\n",
      "C        172.16.128.0/24 is directly connected, Ethernet1/3\n",
      "L        172.16.128.2/32 is directly connected, Ethernet1/3\n",
      "\n",
      "\n",
      "-------------------------active-interfaces-------------------------\n",
      "\n",
      "Interface                  IP-Address      OK? Method Status                Protocol\n",
      "Ethernet1/3                172.16.128.2    YES NVRAM  up                    up      \n",
      "Loopback0                  172.16.1.1      YES manual up                    up      \n",
      "\n"
     ]
    }
   ],
   "source": [
    "for title,rtr_op in outputs.items():\n",
    "    heading = '\\n\\n' +('-')*25 +title+ (\"-\")*25+\"\\n\"\n",
    "#     heading = '\\n\\n'+ ('-')*25+ +(\"-\")*25+\"\\n\"\n",
    "    print(heading)\n",
    "    print(rtr_op)\n",
    "    "
   ]
  }
 ],
 "metadata": {
  "kernelspec": {
   "display_name": "Python 3",
   "language": "python",
   "name": "python3"
  },
  "language_info": {
   "codemirror_mode": {
    "name": "ipython",
    "version": 3
   },
   "file_extension": ".py",
   "mimetype": "text/x-python",
   "name": "python",
   "nbconvert_exporter": "python",
   "pygments_lexer": "ipython3",
   "version": "3.5.2"
  }
 },
 "nbformat": 4,
 "nbformat_minor": 2
}
