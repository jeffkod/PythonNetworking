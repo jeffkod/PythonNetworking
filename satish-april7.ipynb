{
 "cells": [
  {
   "cell_type": "code",
   "execution_count": 10,
   "metadata": {},
   "outputs": [],
   "source": [
    "from netmiko import ConnectHandler"
   ]
  },
  {
   "cell_type": "code",
   "execution_count": 2,
   "metadata": {},
   "outputs": [],
   "source": [
    "USERNAME,PASSWORD = 'cisco','cisco'"
   ]
  },
  {
   "cell_type": "code",
   "execution_count": 3,
   "metadata": {},
   "outputs": [],
   "source": [
    "ips = ['172.16.1.1']\n",
    "ip = ips[0]"
   ]
  },
  {
   "cell_type": "code",
   "execution_count": 6,
   "metadata": {},
   "outputs": [],
   "source": [
    "rd = {\n",
    "    'username':USERNAME,\n",
    "    'password':PASSWORD,\n",
    "    'device_type':'cisco_ios',\n",
    "    'ip': ip,\n",
    "    'secret':PASSWORD\n",
    "}"
   ]
  },
  {
   "cell_type": "code",
   "execution_count": 7,
   "metadata": {},
   "outputs": [],
   "source": [
    "rc = ConnectHandler(**rd)"
   ]
  },
  {
   "cell_type": "code",
   "execution_count": 8,
   "metadata": {},
   "outputs": [
    {
     "data": {
      "text/plain": [
       "'enable\\r\\nPassword: \\r\\nIOU1#'"
      ]
     },
     "execution_count": 8,
     "metadata": {},
     "output_type": "execute_result"
    }
   ],
   "source": [
    "rc.enable()"
   ]
  },
  {
   "cell_type": "code",
   "execution_count": 9,
   "metadata": {},
   "outputs": [
    {
     "data": {
      "text/plain": [
       "['Interface                  IP-Address      OK? Method Status                Protocol',\n",
       " 'Ethernet0/0                unassigned      YES NVRAM  administratively down down    ',\n",
       " 'Ethernet0/1                unassigned      YES NVRAM  administratively down down    ',\n",
       " 'Ethernet0/2                unassigned      YES NVRAM  administratively down down    ',\n",
       " 'Ethernet0/3                unassigned      YES NVRAM  administratively down down    ',\n",
       " 'Ethernet1/0                unassigned      YES NVRAM  administratively down down    ',\n",
       " 'Ethernet1/1                unassigned      YES NVRAM  administratively down down    ',\n",
       " 'Ethernet1/2                unassigned      YES NVRAM  administratively down down    ',\n",
       " 'Ethernet1/3                172.16.128.2    YES NVRAM  up                    up      ',\n",
       " 'Serial2/0                  unassigned      YES NVRAM  administratively down down    ',\n",
       " 'Serial2/1                  unassigned      YES NVRAM  administratively down down    ',\n",
       " 'Serial2/2                  unassigned      YES NVRAM  administratively down down    ',\n",
       " 'Serial2/3                  unassigned      YES NVRAM  administratively down down    ',\n",
       " 'Serial3/0                  unassigned      YES NVRAM  administratively down down    ',\n",
       " 'Serial3/1                  unassigned      YES NVRAM  administratively down down    ',\n",
       " 'Serial3/2                  unassigned      YES NVRAM  administratively down down    ',\n",
       " 'Serial3/3                  unassigned      YES NVRAM  administratively down down    ',\n",
       " 'Loopback0                  172.16.1.1      YES manual up                    up      ']"
      ]
     },
     "execution_count": 9,
     "metadata": {},
     "output_type": "execute_result"
    }
   ],
   "source": [
    "rc.send_command(\"sh ip int br\").splitlines()"
   ]
  },
  {
   "cell_type": "code",
   "execution_count": null,
   "metadata": {},
   "outputs": [],
   "source": []
  }
 ],
 "metadata": {
  "kernelspec": {
   "display_name": "Python 3",
   "language": "python",
   "name": "python3"
  },
  "language_info": {
   "codemirror_mode": {
    "name": "ipython",
    "version": 3
   },
   "file_extension": ".py",
   "mimetype": "text/x-python",
   "name": "python",
   "nbconvert_exporter": "python",
   "pygments_lexer": "ipython3",
   "version": "3.5.2"
  }
 },
 "nbformat": 4,
 "nbformat_minor": 2
}
